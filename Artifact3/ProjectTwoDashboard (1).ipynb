{
 "cells": [
  {
   "cell_type": "code",
   "execution_count": 41,
   "metadata": {
    "scrolled": true
   },
   "outputs": [
    {
     "data": {
      "text/html": [
       "<div>\n",
       "  <iframe src=\"/app/endpoints/7cbe7d98ecfe4fe69aac031cee3b5070/\" width=800 height=600 frameborder=\"0\"></iframe>\n",
       "  <hr/><a href=\"/app/endpoints/7cbe7d98ecfe4fe69aac031cee3b5070/\" target=\"_new\">Open in new window</a> for /app/endpoints/7cbe7d98ecfe4fe69aac031cee3b5070/\n",
       "</div>"
      ],
      "text/plain": [
       "<jupyter_plotly_dash.dash_wrapper.JupyterDash at 0x121ab7510>"
      ]
     },
     "execution_count": 41,
     "metadata": {},
     "output_type": "execute_result"
    }
   ],
   "source": [
    "from jupyter_plotly_dash import JupyterDash\n",
    "\n",
    "import dash\n",
    "import dash_leaflet as dl\n",
    "import dash_core_components as dcc\n",
    "import dash_html_components as html\n",
    "import plotly.express as px\n",
    "import dash_table as dt\n",
    "from dash.dependencies import Input, Output, State\n",
    "\n",
    "import os\n",
    "import numpy as np\n",
    "import pandas as pd\n",
    "from pymongo import MongoClient\n",
    "from bson.json_util import dumps\n",
    "\n",
    "#### FIXED BY Taylor Cruz #####\n",
    "# change animal_shelter and AnimalShelter to match your CRUD Python module file name and class name\n",
    "from AnimalShelter import AnimalShelter\n",
    "\n",
    "\n",
    "\n",
    "\n",
    "\n",
    "###########################\n",
    "# Data Manipulation / Model\n",
    "###########################\n",
    "# FIXED BY Taylor Cruz change for your username and password and CRUD Python module name\n",
    "username = \"aacuser\"\n",
    "password = \"5678\"\n",
    "shelter = AnimalShelter(username, password)\n",
    "\n",
    "\n",
    "# class read method must support return of cursor object \n",
    "df = pd.DataFrame.from_records(shelter.read({})\n",
    "\n",
    "\n",
    "\n",
    "#########################\n",
    "# Dashboard Layout / View\n",
    "#########################\n",
    "app = JupyterDash('SimpleExample')\n",
    "\n",
    "#FIXED BY Taylor Cruz Add in Grazioso Salvare’s logo\n",
    "image_filename = 'Grazioso Salvare Logo.png' # replace with your own image\n",
    "encoded_image = base64.b64encode(open(image_filename, 'rb').read())\n",
    "\n",
    "#FIXED BY Taylor Cruz Place the HTML image tag in the line below into the app.layout code according to your design\n",
    "#FIXED BY Taylor Cruz Also remember to include a unique identifier such as your name or date\n",
    "#html.Img(src='data:image/png;base64,{}'.format(encoded_image.decode()))\n",
    "\n",
    "app.layout = html.'www.snhu.edu'.Div([\n",
    "#    html.Div(id='hidden-div', style={'display':'none'}),\n",
    "    html.Center(html.B(html.H1('Taylor Cruz'))),\n",
    "    html.Hr(),\n",
    "    html.Div(\n",
    "        \n",
    "#FIXED BY Taylor Cruz Add in code for the interactive filtering options. For example, Radio buttons, drop down, checkboxes, etc. I was honestly a little confused by this part\n",
    "app.layout = htm.DIV([\n",
    "dcc.RadioItems(\n",
    "    options = [
    {'label': 'Water Rescue', 'value': 'WaterRescue'},
    {'label' : 'Mountain or Wilderness Rescue', 'value': 'MountainRescue'},
    {'label': 'Disaster or Individual Tracking', 'value' : 'DisasterRescue'},
    {'label': 'Reset', 'value': 'reset'}
    ]),\n",
    "    html.Hr(),\n",
    "    dt.DataTable(\n",
    "        id='datatable-id',\n",
    "        columns=[\n",
    "            {\"name\": i, \"id\": i, \"deletable\": False, \"selectable\": True} for i in df.columns\n",
    "        ],\n",
    "        data=df.to_dict('records'),\n",
    "#FIXED BY Taylor Cruz: Set up the features for your interactive data table to make it user-friendly for your client\n",
    "#If you completed the Module Six Assignment, you can copy in the code you created here \n",
    "     #Case for buttons to select animal type\n",
    "def on_click(button1, button2):\n",
    "    if (int(button1) == 0 and int(button2) == 0):\n",
            "df = pd.DataFrame.read(AnimalShelter.readAll({}))\n",
        "elif (button1 > button2):\n",
            "df = pd.DataFrame(list(AnimalShelter.read({\'animal_type' : 'Dog'})\n",
        "elif (button1 < button2):\n",
            "df = pd.DataFrame(list(AnimalShelter.read({'animal_type' : 'Cat'})\n",   \n",
    "    ),\n",
    "    html.Br(),\n",
    "    html.Hr(),\n",
    "#This sets up the dashboard so that your chart and your geolocation chart are side-by-side\n",
    "    html.Div(className='row',\n",
    "         style={'display' : 'flex'},\n",
    "             children=[\n",
    "        html.Div(\n",
    "            id='graph-id',\n",
    "            className='col s12 m6',\n",
    "\n",
    "            ),\n",
    "        html.Div(\n",
    "            id='map-id',\n",
    "            className='col s12 m6',\n",
    "            )\n",
    "        ])\n",
    "])\n",
    "\n",
    "#############################################\n",
    "# Interaction Between Components / Controller\n",
    "#############################################\n",
    "\n",
    "\n",
    "\n",
    "    \n",
    "@app.callback([Output('datatable-id','data'),\n",
    "               Output('datatable-id','columns')],\n",
    "              [Input('filter-type', 'value')])\n",
    "def update_dashboard(WaterRescue, MountainRescue, DisasterRescue, reset):\n",
    "### FIXED BY Taylor Cruz Add code to filter interactive data table with MongoDB queries\n",
    "if (WaterRescue == 0):
        df = pd.Dataframe.read(AnimalShelter.read({'breed': 'Labrador Retriever Mix'}, {'breed': 'Chesapeake Bay Retriever'}, {'breed': 'Newfoundland'},{'sex_upon_outcome': 'Intact Female'}, {'age_upon_outcome_in_weeks': '26 weeks to 156 weeks},)\n",
    "elif (MountainRescue == 0):
        df = pd.Dataframe.read(AnimalShelter.read({'breed': 'German Shepherd'}, {'breed': 'Alaskan Malamute'}, {'breed': 'Old English Sheepdog'}, {'breed': 'Siberian Husky'}, {'breed': 'Rottweiler'}, {'sex_upon_outcome': 'Intact Male'}, {'age_upon_outcome_in_weeks': '26 weeks to 156 weeks'})\n",
      "elif (DisasterRescue == 0):
          df = pd.Dataframe.read(AnimalShelter.read({'breed': 'Doberman Pinscher'}, {'breed': 'German Shepherd'}, {'breed': 'Golden Retriever'}, {'breed': 'Bloodhound'}, {'breed': 'Rottweiler'}, {'sex_upon_outcome': 'Intact Male'}, {'age_upon_outcome_in_weeks': '20 weeks to 300 weeks'})"
    "        columns=[{\"name\": i, \"id\": i, \"deletable\": False, \"selectable\": True} for i in df.columns]\n",
    "        data=df.to_dict('records')\n",
    "        \n",
    "        \n",
    "        return (data,columns)\n",
    "\n",
    "\n",
    "\n",
    "\n",
    "@app.callback(\n",
    "    Output('datatable-id', 'style_data_conditional'),\n",
    "    [Input('filter-type', 'value')]\n",
    ")\n",
    "def update_styles(selected_columns):\n",
    "    return [{\n",
    "        'if': { 'column_id': i },\n",
    "        'background_color': '#D2F3FF'\n",
    "    } for i in selected_columns]\n",
    "\n",
    "@app.callback(\n",
    "    Output('graph-id', \"children\"),\n",
    "    [Input('datatable-id', \"derived_viewport_data\")])\n",
    "def update_graphs(viewData):\n",
    "    ###Pie chart added by Taylor Cruz on 02/04/2022 ####\n",
    "    df = px.data.tips()\n",
    "    app = dash.Dash(__name__)\n",
    "    app.layout = html.Div([
             html.P("Rescue and Search Training:"),
             dcc.Dropdown(
                 id = 'my_dropdown',
                 value = 'Water Rescue',
                 options = [{'value':x, 'label':x}
                            for x in ['Water Rescue', 'Mountain Rescue', 'Disaster Rescue']],
                 clearable = False
             ),
             html.P("Specifications:"),
             dcc.Dropdown(
                 id = 'values',
                 value = 'breed',
                 options = [
                           {'label' : 'Breed', 'value' : 'breed'},
                           {'label' : 'Sex' , 'value' : 'sex_upon_outcome'},
                           {'label' : 'Age' , 'value' : 'age_upon_outcome_in_weeks'}
                           ],
                  clearable = False
             ),
             \n",
    "        dcc.Graph(id = "pie-chart"),
    		 ])            \n",
    "      @app.callback(
               Output("pie-chart"m "figure"),
               [Input("my_dropdown, "value"),
               Input("values", "value")])\n",
    "      def generate_chart(my_dropdown, values):
               fig = px.pie(df, my_dropdown = names, values = values)
               return fig
           app.run_server(debug=True) \n",
    "    #]\n",
    "\n",
    "@app.callback(\n",
    "    Output('map-id', \"children\"),\n",
    "    [Input('datatable-id', \"derived_viewport_data\")])\n",
    "def update_map(viewData):\n",
    "#FIXED BY Taylor Cruz: Add in the code for your geolocation chart\n",
    "#If you completed the Module Six Assignment, you can copy in the code you created here.\n",
    "def update_map(viewData):
    dff = pd.DataFrame.from_dict(viewData)
    # Austin TX is at [30.75,-97.48]
    return [
        dl.Map(style={'width': '1000px', 'height': '500px'}, center=[30.75,-97.48], zoom=10, children=[
            dl.TileLayer(id="base-layer-id"),
            # Marker with tool tip and popup
            dl.Marker(position=[30.75,-97.48], children=[
                dl.Tooltip(dff.iloc[0,4]),
                dl.Popup([
                    html.H1("Animal Name"),
                    html.P(dff.iloc[1,9])
                ])
            ])
        ])
    ] \n",\n",
    "\n",
    "\n",
    "app"
   ]
  },
  {
   "cell_type": "code",
   "execution_count": null,
   "metadata": {},
   "outputs": [],
   "source": []
  },
  {
   "cell_type": "code",
   "execution_count": null,
   "metadata": {},
   "outputs": [],
   "source": []
  },
  {
   "cell_type": "code",
   "execution_count": null,
   "metadata": {},
   "outputs": [],
   "source": []
  }
 ],
 "metadata": {
  "kernelspec": {
   "display_name": "Python 3",
   "language": "python",
   "name": "python3"
  },
  "language_info": {
   "codemirror_mode": {
    "name": "ipython",
    "version": 3
   },
   "file_extension": ".py",
   "mimetype": "text/x-python",
   "name": "python",
   "nbconvert_exporter": "python",
   "pygments_lexer": "ipython3",
   "version": "3.7.7"
  }
 },
 "nbformat": 4,
 "nbformat_minor": 2
}
